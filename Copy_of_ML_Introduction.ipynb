{
  "nbformat": 4,
  "nbformat_minor": 0,
  "metadata": {
    "colab": {
      "provenance": [],
      "include_colab_link": true
    },
    "kernelspec": {
      "name": "python3",
      "display_name": "Python 3"
    },
    "language_info": {
      "name": "python"
    }
  },
  "cells": [
    {
      "cell_type": "markdown",
      "metadata": {
        "id": "view-in-github",
        "colab_type": "text"
      },
      "source": [
        "<a href=\"https://colab.research.google.com/github/PreciousNalyanya/introduction-to-machine-learning/blob/main/Copy_of_ML_Introduction.ipynb\" target=\"_parent\"><img src=\"https://colab.research.google.com/assets/colab-badge.svg\" alt=\"Open In Colab\"/></a>"
      ]
    },
    {
      "cell_type": "code",
      "execution_count": null,
      "metadata": {
        "id": "2l6sKSRB-GAg"
      },
      "outputs": [],
      "source": []
    },
    {
      "cell_type": "markdown",
      "source": [
        "## Topics to be Covered\n",
        "1. What is Machine Learning?\n",
        "2. Applications of Machine Learning?\n",
        "3. Difference bewtween Machine Learning, Deep Learning and Artificial Intelligence\n",
        "4. What is Supervised Machine  Learning.\n",
        "5. What is unsupervised machine learning.\n",
        "6. Define what is Regression and some of its application\n",
        "7. What is Classification, and its application?\n",
        "8. What is clustering and its application\n",
        "9. What is Associaltion Rule Mining, and how does it apply Apriori Algorithms\n",
        "10. How do we perform model evalaution in both regression and classification models."
      ],
      "metadata": {
        "id": "Y8wQdBGT-HLM"
      }
    },
    {
      "cell_type": "markdown",
      "source": [
        "### What is Machine Learning?\n",
        "Branch of Artificial Intelligence that focuses on training machines to learn from labelled or unlabelled data, and then used to make future prediction.\n",
        "\n",
        "<img src=\"https://cdn.sparkfun.com/assets/home_page_posts/7/3/6/9/61fbec562cf81f62a255f192_61eeb99a54a67e18ce19d47c_0_nyBFE8lLgr8ePAJ___1_.jpeg\">"
      ],
      "metadata": {
        "id": "z6jddmw4_iyh"
      }
    },
    {
      "cell_type": "code",
      "source": [],
      "metadata": {
        "id": "jBvXsCrra96D"
      },
      "execution_count": null,
      "outputs": []
    },
    {
      "cell_type": "markdown",
      "source": [
        "## Applications of Machine Learning\n",
        "1. Disease Prediction\n",
        "2. Fraud Detection\n",
        "3. Weather Forecusting\n",
        "4. Sales Forecusting"
      ],
      "metadata": {
        "id": "B9PEpXB3BwHb"
      }
    },
    {
      "cell_type": "markdown",
      "source": [
        "## What is the Difference Bewtween Artificial Intelligence, Machine and Deep Learning.\n",
        "\n",
        "<img src=\"https://miro.medium.com/v2/resize:fit:631/0*Q3PICBlib-932hhH.png\">\n",
        "\n",
        "1. ARTIFICIAL INTELLIGENCE: Deals with making computers/machines mimic/copy or to posses human intelligence. Geoffrey Hinton a British Computer Scientist was able to prove that human intelligence can be passed to machines for instance: vision(computer vision), learn(machine learning), motion(robotics), communicate(natural language processing), biological neural network(artificial neural network).\n",
        "\n",
        "<img src=\"https://www.techopedia.com/wp-content/uploads/2011/06/Artificial-Intellignce-AI.jpg\">\n",
        "\n",
        "\n",
        "2. MACHINE LEARNING: Branch of AI that focusing on training machine to learn from data. Machine Learning Uses Scientific Algorithms e,g Decision Tree, Linear Regression etc.\n",
        "\n",
        "3. DEEP LEARNING: Branch of MACHINE LEARNING that focuses on training computers to learn from a more complex data e,g images, videos, speech using the Artificial Neural Network.\n",
        "\n",
        "<img src=\"https://images.prismic.io/turing/652ebc26fbd9a45bcec81819_Deep_Learning_vs_Machine_Learning_3033723be2.webp?auto=format%2Ccompress&fit=max&w=3840\">"
      ],
      "metadata": {
        "id": "Huc3Xt-5A7yV"
      }
    },
    {
      "cell_type": "markdown",
      "source": [
        "## What is the Difference between Supervised Learning and Unsupervised Machine Learning?\n",
        "\n",
        "1. Supervised Machine Learning: It focuses on training machine using a labelled data. A labelled data is where we have the Features(Independent Variables/X) and the Outcomes(Dependent Variables/Y). Supervised Learning is subdivided into two categories: <br>\n",
        "a) Classification: This is where the Outcomes are Textual or Categorical\n",
        "\n",
        "<img src=\"https://i.sstatic.net/4WE6N.png\"> <br>\n",
        "\n",
        "b) Regression: This is where the Outcomes are Contionous or Numerical\n",
        "\n",
        "<img src=\"https://www.i2tutorials.com/wp-content/media/2019/09/Features-and-Labels-in-a-Dataset-i2tutorials.png\">\n",
        "\n"
      ],
      "metadata": {
        "id": "rnZ3KdB8G-gh"
      }
    },
    {
      "cell_type": "markdown",
      "source": [
        "## Research on what is Unsupervised Machine Learning."
      ],
      "metadata": {
        "id": "f2k-_YS7Kzos"
      }
    },
    {
      "cell_type": "markdown",
      "source": [],
      "metadata": {
        "id": "XPvsd-bgLraQ"
      }
    },
    {
      "cell_type": "markdown",
      "source": [],
      "metadata": {
        "id": "frss474BKteC"
      }
    }
  ]
}